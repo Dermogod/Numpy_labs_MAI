{
 "cells": [
  {
   "cell_type": "markdown",
   "metadata": {},
   "source": [
    "### МАИ\n",
    "### ФИО студента: Меркулов Лев Владимирович\n",
    "### группа: Т120-101М-20\n",
    "### ФИО руководителя: Поповкин Александр Викторович\n",
    "### дата: 26.11.2020\n",
    "### Pandas, Лаб раб № 3\n",
    "### Москва, 2020 г."
   ]
  },
  {
   "cell_type": "code",
   "execution_count": 1,
   "metadata": {},
   "outputs": [],
   "source": [
    "import numpy as np\n",
    "import pandas as pd\n",
    "import matplotlib as plt"
   ]
  },
  {
   "cell_type": "markdown",
   "metadata": {},
   "source": [
    "- Найти евклидово расстоняие между двумя объектами Series"
   ]
  },
  {
   "cell_type": "code",
   "execution_count": 4,
   "metadata": {},
   "outputs": [
    {
     "data": {
      "text/plain": [
       "5.196152422706632"
      ]
     },
     "execution_count": 4,
     "metadata": {},
     "output_type": "execute_result"
    }
   ],
   "source": [
    "a = pd.Series(np.array([1,2,3]))\n",
    "b = pd.Series(np.array([4,5,6]))\n",
    "np.linalg.norm(a-b)"
   ]
  },
  {
   "cell_type": "markdown",
   "metadata": {},
   "source": [
    "- Найти индексы локальных максимумов в объекте Series"
   ]
  },
  {
   "cell_type": "code",
   "execution_count": 7,
   "metadata": {},
   "outputs": [
    {
     "name": "stdout",
     "output_type": "stream",
     "text": [
      "[ 4  2 13 -9]\n",
      "\n",
      "[ 1  1  1 -1]\n",
      "\n",
      "[ 0  0 -2]\n"
     ]
    },
    {
     "data": {
      "text/plain": [
       "array([3])"
      ]
     },
     "execution_count": 7,
     "metadata": {},
     "output_type": "execute_result"
    }
   ],
   "source": [
    "s = pd.Series([1, 5, 7, 20, 11])\n",
    "dd = np.diff(np.sign(np.diff(s))) #discrete difference S[i+1] - S[i];\n",
    "\n",
    "print(np.diff(s), np.sign(np.diff(s)), dd, sep = '\\n\\n') #n=1 by default\n",
    "np.where(dd == -2)[0] + 1 #20"
   ]
  },
  {
   "cell_type": "markdown",
   "metadata": {},
   "source": [
    "- Заменить пробелы наименее часто встречающимся символов"
   ]
  },
  {
   "cell_type": "code",
   "execution_count": 78,
   "metadata": {},
   "outputs": [
    {
     "name": "stdout",
     "output_type": "stream",
     "text": [
      "     8\n",
      "o    4\n",
      "e    3\n",
      "u    2\n",
      "h    2\n",
      "r    2\n",
      "i    1\n",
      "b    1\n",
      "v    1\n",
      "j    1\n",
      "m    1\n",
      "t    1\n",
      "n    1\n",
      "g    1\n",
      "k    1\n",
      "z    1\n",
      "c    1\n",
      "p    1\n",
      "l    1\n",
      "d    1\n",
      "q    1\n",
      "y    1\n",
      "w    1\n",
      "x    1\n",
      "a    1\n",
      "f    1\n",
      "T    1\n",
      "s    1\n",
      "dtype: int64\n"
     ]
    },
    {
     "data": {
      "text/plain": [
       "'Thesquicksbrownsfoxsjumpssoverstheslazysdog'"
      ]
     },
     "execution_count": 78,
     "metadata": {},
     "output_type": "execute_result"
    }
   ],
   "source": [
    "sentence = 'The quick brown fox jumps over the lazy dog'\n",
    "s = pd.Series(list(sentence))\n",
    "f = s.value_counts()\n",
    "print(s.value_counts()) #show unique symbols\n",
    "('').join(s.replace(' ', f.index[-1]))"
   ]
  },
  {
   "cell_type": "markdown",
   "metadata": {},
   "source": [
    "- Создать объект Series, который содержит в индексах даты выходных дней субботы, а в значениях случайные числа от 1 до 10"
   ]
  },
  {
   "cell_type": "code",
   "execution_count": 94,
   "metadata": {},
   "outputs": [
    {
     "data": {
      "text/plain": [
       "2020-11-07    3\n",
       "2020-11-14    1\n",
       "2020-11-21    5\n",
       "2020-11-28    9\n",
       "2020-12-05    1\n",
       "Freq: W-SAT, dtype: int64"
      ]
     },
     "execution_count": 94,
     "metadata": {},
     "output_type": "execute_result"
    }
   ],
   "source": [
    "pd.Series(np.random.randint(1,10,5), index = pd.date_range(start = '11/1/2020', freq = 'W-SAT', periods = 5))\n"
   ]
  },
  {
   "cell_type": "markdown",
   "metadata": {},
   "source": [
    "- Заполнить пропущенные даты, значением выше (заполненной даты)"
   ]
  },
  {
   "cell_type": "code",
   "execution_count": 38,
   "metadata": {},
   "outputs": [
    {
     "name": "stdout",
     "output_type": "stream",
     "text": [
      "            Date\n",
      "2018-01-01   2.0\n",
      "2018-01-03   5.0\n",
      "2018-01-06   8.0\n",
      "2018-01-08   NaN\n",
      "2018-01-10  10.0\n",
      "\n",
      "            Date\n",
      "2018-01-01   2.0\n",
      "2018-01-03   5.0\n",
      "2018-01-06   8.0\n",
      "2018-01-08  10.0\n",
      "2018-01-10  10.0\n",
      "\n",
      "            Date\n",
      "2018-01-01   2.0\n",
      "2018-01-03   5.0\n",
      "2018-01-06   8.0\n",
      "2018-01-08   8.0\n",
      "2018-01-10  10.0\n"
     ]
    }
   ],
   "source": [
    "df = pd.DataFrame({\"Date\": [2, 5, 8, None, 10]}, index = pd.to_datetime(['2018-01-01', '2018-01-03', '2018-01-06', '2018-01-08', '2018-01-10']))\n",
    "# bfill() - backward fill the missing values. ffill() - forward fill\n",
    "print(df, df.bfill(), df.ffill(), sep = '\\n\\n')"
   ]
  },
  {
   "cell_type": "markdown",
   "metadata": {},
   "source": [
    "- Вычислить автокорреляцию объекта Series"
   ]
  },
  {
   "cell_type": "code",
   "execution_count": 5,
   "metadata": {},
   "outputs": [
    {
     "data": {
      "text/plain": [
       "0.1035526330902407"
      ]
     },
     "execution_count": 5,
     "metadata": {},
     "output_type": "execute_result"
    }
   ],
   "source": [
    "s = pd.Series([0.25, 0.5, 0.2, -0.05])\n",
    "s.autocorr()  "
   ]
  },
  {
   "cell_type": "code",
   "execution_count": null,
   "metadata": {},
   "outputs": [],
   "source": [
    "\n"
   ]
  }
 ],
 "metadata": {
  "kernelspec": {
   "display_name": "Python 3",
   "language": "python",
   "name": "python3"
  },
  "language_info": {
   "codemirror_mode": {
    "name": "ipython",
    "version": 3
   },
   "file_extension": ".py",
   "mimetype": "text/x-python",
   "name": "python",
   "nbconvert_exporter": "python",
   "pygments_lexer": "ipython3",
   "version": "3.6.9"
  }
 },
 "nbformat": 4,
 "nbformat_minor": 4
}
