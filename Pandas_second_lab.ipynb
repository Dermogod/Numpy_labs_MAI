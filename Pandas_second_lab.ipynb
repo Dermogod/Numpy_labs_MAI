{
 "cells": [
  {
   "cell_type": "markdown",
   "metadata": {},
   "source": [
    "### МАИ\n",
    "### ФИО студента: Меркулов Лев Владимирович\n",
    "### группа: Т120-101М-20\n",
    "### ФИО руководителя: Поповкин Александр Викторович\n",
    "### дата: 18.11.2020\n",
    "### Pandas, Лаб раб № 2\n",
    "### Москва, 2020 г."
   ]
  },
  {
   "cell_type": "markdown",
   "metadata": {},
   "source": [
    "- Получить от объекта Series показатели описательной статистики"
   ]
  },
  {
   "cell_type": "code",
   "execution_count": 1,
   "metadata": {},
   "outputs": [],
   "source": [
    "import numpy as np\n",
    "import pandas as pd\n",
    "import matplotlib as plt"
   ]
  },
  {
   "cell_type": "code",
   "execution_count": 2,
   "metadata": {},
   "outputs": [
    {
     "name": "stdout",
     "output_type": "stream",
     "text": [
      "               A          B\n",
      "count  10.000000  10.000000\n",
      "mean    2.600000  16.200000\n",
      "std     1.429841   3.705851\n",
      "min     1.000000  11.000000\n",
      "25%     1.250000  13.250000\n",
      "50%     2.500000  16.500000\n",
      "75%     3.750000  18.000000\n",
      "max     5.000000  22.000000 \n",
      "\n",
      "count     10\n",
      "unique     3\n",
      "top        a\n",
      "freq       5\n",
      "Name: C, dtype: object\n"
     ]
    }
   ],
   "source": [
    "df = pd.DataFrame({'A': [1, 2, 1, 4, 3, 5, 2, 3, 4, 1], \n",
    "                           'B': [12, 14, 11, 16, 18, 18, 22, 13, 21, 17], \n",
    "                           'C': ['a', 'a', 'b', 'a', 'b', 'c', 'b', 'a', 'b', 'a']})\n",
    "\n",
    "print(df.describe(), '\\n') #описательная статистика\n",
    "print(df['C'].describe()) #для нечисловых элементов"
   ]
  },
  {
   "cell_type": "markdown",
   "metadata": {},
   "source": [
    "- Узнать частоту уникальных элементов объекта Series (гистограмма)"
   ]
  },
  {
   "cell_type": "code",
   "execution_count": 5,
   "metadata": {},
   "outputs": [
    {
     "name": "stdout",
     "output_type": "stream",
     "text": [
      "0    1\n",
      "1    1\n",
      "2    2\n",
      "3    3\n",
      "dtype: int64\n",
      "\n",
      "<bound method Series.unique of 0    1\n",
      "1    1\n",
      "2    2\n",
      "3    3\n",
      "dtype: int64>\n",
      "\n",
      "1    2\n",
      "3    1\n",
      "2    1\n",
      "dtype: int64\n",
      "\n",
      "1    0.50\n",
      "2    0.25\n",
      "3    0.25\n",
      "dtype: float64\n"
     ]
    }
   ],
   "source": [
    "ds = pd.Series([1,1,2,3])\n",
    "ds_unique = ds.unique\n",
    "ds_count = ds.value_counts()\n",
    "ds_count_freq = pd.Series([ float(i/ds.count()) for i in ds_count])\n",
    "ds_count_freq.index += 1\n",
    "print(ds, ds_unique, ds_count, ds_count_freq, sep = '\\n\\n')"
   ]
  },
  {
   "cell_type": "markdown",
   "metadata": {},
   "source": [
    "- Заменить все элементы объекта Series на \"Other\", кроме двух наиболее часто встречающихся"
   ]
  },
  {
   "cell_type": "code",
   "execution_count": 167,
   "metadata": {},
   "outputs": [
    {
     "name": "stdout",
     "output_type": "stream",
     "text": [
      "0    4\n",
      "1    1\n",
      "2    3\n",
      "3    3\n",
      "4    2\n",
      "5    4\n",
      "6    4\n",
      "7    2\n",
      "dtype: int64 \n",
      "\n",
      "4    3\n",
      "3    2\n",
      "2    2\n",
      "1    1\n",
      "dtype: int64\n",
      "\n",
      "2    2\n",
      "1    1\n",
      "dtype: int64\n",
      "\n",
      "1    1\n",
      "4    2\n",
      "7    2\n",
      "dtype: int64\n",
      "\n",
      "0        4\n",
      "1    Other\n",
      "2        3\n",
      "3        3\n",
      "4    Other\n",
      "5        4\n",
      "6        4\n",
      "7    Other\n",
      "dtype: object\n"
     ]
    }
   ],
   "source": [
    "ds = pd.Series(np.random.randint(1, 5, size = 8))\n",
    "ds_count = ds.value_counts()\n",
    "s = ds.value_counts()[2:] #top frequent elements starting from the 3rd\n",
    "\n",
    "print(ds, '\\n')\n",
    "res = ds[ds.isin(s.index)]\n",
    "ds[res.index] = 'Other'\n",
    "\n",
    "print(ds_count, s, res, ds, sep = '\\n\\n')"
   ]
  },
  {
   "cell_type": "markdown",
   "metadata": {},
   "source": [
    "- Создать объект Series в индексах дата каждый день 2019 года, в значениях случайное значение"
   ]
  },
  {
   "cell_type": "code",
   "execution_count": 149,
   "metadata": {},
   "outputs": [
    {
     "data": {
      "text/plain": [
       "2019-01-01    0.561175\n",
       "2019-01-02    0.607708\n",
       "2019-01-03    0.454613\n",
       "2019-01-04    0.765596\n",
       "2019-01-05    0.622927\n",
       "                ...   \n",
       "2019-12-27    0.916669\n",
       "2019-12-28    0.780735\n",
       "2019-12-29    0.444075\n",
       "2019-12-30    0.380059\n",
       "2019-12-31    0.865478\n",
       "Freq: D, Length: 365, dtype: float64"
      ]
     },
     "execution_count": 149,
     "metadata": {},
     "output_type": "execute_result"
    }
   ],
   "source": [
    "date_idx = pd.date_range(start='2019-01-01', end='2019-12-31') \n",
    "s = pd.Series(np.random.rand(len(date_idx)), index=date_idx)\n",
    "s"
   ]
  },
  {
   "cell_type": "markdown",
   "metadata": {},
   "source": [
    "- Найти сумму всех вторников"
   ]
  },
  {
   "cell_type": "code",
   "execution_count": 150,
   "metadata": {},
   "outputs": [
    {
     "data": {
      "text/plain": [
       "28.09832547351042"
      ]
     },
     "execution_count": 150,
     "metadata": {},
     "output_type": "execute_result"
    }
   ],
   "source": [
    "s[s.index.weekday == 2].sum()"
   ]
  },
  {
   "cell_type": "markdown",
   "metadata": {},
   "source": [
    "- Для каждого месяца найти среднее значение"
   ]
  },
  {
   "cell_type": "code",
   "execution_count": 153,
   "metadata": {},
   "outputs": [
    {
     "data": {
      "text/plain": [
       "2019-01-31    0.601175\n",
       "2019-02-28    0.517054\n",
       "2019-03-31    0.628315\n",
       "2019-04-30    0.484462\n",
       "2019-05-31    0.570039\n",
       "2019-06-30    0.489122\n",
       "2019-07-31    0.498348\n",
       "2019-08-31    0.529193\n",
       "2019-09-30    0.542768\n",
       "2019-10-31    0.492407\n",
       "2019-11-30    0.452753\n",
       "2019-12-31    0.570638\n",
       "Freq: M, dtype: float64"
      ]
     },
     "execution_count": 153,
     "metadata": {},
     "output_type": "execute_result"
    }
   ],
   "source": [
    "s.resample('M').mean()"
   ]
  },
  {
   "cell_type": "markdown",
   "metadata": {},
   "source": [
    "- Преобразовать объект Series в DataFrame заданной формы (shape)"
   ]
  },
  {
   "cell_type": "code",
   "execution_count": 169,
   "metadata": {},
   "outputs": [
    {
     "data": {
      "text/html": [
       "<div>\n",
       "<style scoped>\n",
       "    .dataframe tbody tr th:only-of-type {\n",
       "        vertical-align: middle;\n",
       "    }\n",
       "\n",
       "    .dataframe tbody tr th {\n",
       "        vertical-align: top;\n",
       "    }\n",
       "\n",
       "    .dataframe thead th {\n",
       "        text-align: right;\n",
       "    }\n",
       "</style>\n",
       "<table border=\"1\" class=\"dataframe\">\n",
       "  <thead>\n",
       "    <tr style=\"text-align: right;\">\n",
       "      <th></th>\n",
       "      <th>0</th>\n",
       "      <th>1</th>\n",
       "      <th>2</th>\n",
       "      <th>3</th>\n",
       "    </tr>\n",
       "  </thead>\n",
       "  <tbody>\n",
       "    <tr>\n",
       "      <th>0</th>\n",
       "      <td>2</td>\n",
       "      <td>5</td>\n",
       "      <td>7</td>\n",
       "      <td>7</td>\n",
       "    </tr>\n",
       "    <tr>\n",
       "      <th>1</th>\n",
       "      <td>2</td>\n",
       "      <td>9</td>\n",
       "      <td>8</td>\n",
       "      <td>1</td>\n",
       "    </tr>\n",
       "    <tr>\n",
       "      <th>2</th>\n",
       "      <td>1</td>\n",
       "      <td>2</td>\n",
       "      <td>5</td>\n",
       "      <td>1</td>\n",
       "    </tr>\n",
       "    <tr>\n",
       "      <th>3</th>\n",
       "      <td>8</td>\n",
       "      <td>8</td>\n",
       "      <td>9</td>\n",
       "      <td>5</td>\n",
       "    </tr>\n",
       "    <tr>\n",
       "      <th>4</th>\n",
       "      <td>9</td>\n",
       "      <td>5</td>\n",
       "      <td>7</td>\n",
       "      <td>4</td>\n",
       "    </tr>\n",
       "    <tr>\n",
       "      <th>5</th>\n",
       "      <td>6</td>\n",
       "      <td>8</td>\n",
       "      <td>7</td>\n",
       "      <td>3</td>\n",
       "    </tr>\n",
       "  </tbody>\n",
       "</table>\n",
       "</div>"
      ],
      "text/plain": [
       "   0  1  2  3\n",
       "0  2  5  7  7\n",
       "1  2  9  8  1\n",
       "2  1  2  5  1\n",
       "3  8  8  9  5\n",
       "4  9  5  7  4\n",
       "5  6  8  7  3"
      ]
     },
     "execution_count": 169,
     "metadata": {},
     "output_type": "execute_result"
    }
   ],
   "source": [
    "s = pd.Series(np.random.randint(1, 10, [24]))\n",
    "shape = (6,4)\n",
    "df = pd.DataFrame(s.values.reshape(shape))\n",
    "df"
   ]
  },
  {
   "cell_type": "markdown",
   "metadata": {},
   "source": [
    "- Найти индексы объекта Series кратные 3"
   ]
  },
  {
   "cell_type": "code",
   "execution_count": 171,
   "metadata": {},
   "outputs": [
    {
     "name": "stdout",
     "output_type": "stream",
     "text": [
      "0    6\n",
      "1    2\n",
      "2    4\n",
      "3    8\n",
      "4    6\n",
      "5    8\n",
      "6    6\n",
      "dtype: int64 \n",
      "\n"
     ]
    },
    {
     "data": {
      "text/plain": [
       "Int64Index([0, 4, 6], dtype='int64')"
      ]
     },
     "execution_count": 171,
     "metadata": {},
     "output_type": "execute_result"
    }
   ],
   "source": [
    "s = pd.Series(np.random.randint(1, 10, [7]))\n",
    "print(s, '\\n') \n",
    "s[s % 3 == 0].index"
   ]
  },
  {
   "cell_type": "markdown",
   "metadata": {},
   "source": [
    "- Получить данные по индексам объекта Series"
   ]
  },
  {
   "cell_type": "code",
   "execution_count": 175,
   "metadata": {},
   "outputs": [
    {
     "data": {
      "text/plain": [
       "1     b\n",
       "3     d\n",
       "8     i\n",
       "14    o\n",
       "18    s\n",
       "10    k\n",
       "dtype: object"
      ]
     },
     "execution_count": 175,
     "metadata": {},
     "output_type": "execute_result"
    }
   ],
   "source": [
    "s = pd.Series(list('abcdefghijklmnopqrstuvwxyz'))\n",
    "p = [1, 3, 8, 14, 18, 10]\n",
    "s[p]"
   ]
  },
  {
   "cell_type": "markdown",
   "metadata": {},
   "source": [
    "- Объединить два объекта Series вертикально и горизонтально"
   ]
  },
  {
   "cell_type": "code",
   "execution_count": 183,
   "metadata": {},
   "outputs": [
    {
     "name": "stdout",
     "output_type": "stream",
     "text": [
      "0    4\n",
      "1    2\n",
      "2    2\n",
      "3    2\n",
      "4    1\n",
      "5    2\n",
      "6    2\n",
      "0    a\n",
      "1    b\n",
      "2    c\n",
      "3    d\n",
      "4    e\n",
      "5    f\n",
      "6    g\n",
      "dtype: object\n",
      "\n",
      "   0  1\n",
      "0  4  a\n",
      "1  2  b\n",
      "2  2  c\n",
      "3  2  d\n",
      "4  1  e\n",
      "5  2  f\n",
      "6  2  g\n"
     ]
    }
   ],
   "source": [
    "s1 = pd.Series(np.random.randint(1,5,[7]))\n",
    "s2 = pd.Series(['a','b','c','d','e','f','g'])\n",
    "\n",
    "print(pd.concat([s1, s2], axis = 0),\n",
    "      pd.concat([s1, s2], axis = 1), sep = '\\n\\n'\n",
    "     )"
   ]
  },
  {
   "cell_type": "markdown",
   "metadata": {},
   "source": [
    "- Получить индексы объекта Series A, данные которых содержатся в объетке Series B"
   ]
  },
  {
   "cell_type": "code",
   "execution_count": 188,
   "metadata": {},
   "outputs": [
    {
     "data": {
      "text/plain": [
       "Int64Index([1, 3], dtype='int64')"
      ]
     },
     "execution_count": 188,
     "metadata": {},
     "output_type": "execute_result"
    }
   ],
   "source": [
    "a = pd.Series([1,2,3,4])\n",
    "b = pd.Series([2,6,4,8])\n",
    "\n",
    "# с индексами\n",
    "a[a.isin(b)].index"
   ]
  },
  {
   "cell_type": "markdown",
   "metadata": {},
   "source": [
    "- Получить объект Series B, котоырй содержит элементы без повторений объекта A"
   ]
  },
  {
   "cell_type": "code",
   "execution_count": 190,
   "metadata": {},
   "outputs": [
    {
     "data": {
      "text/plain": [
       "0    6\n",
       "1    9\n",
       "2    4\n",
       "3    1\n",
       "4    7\n",
       "dtype: int64"
      ]
     },
     "execution_count": 190,
     "metadata": {},
     "output_type": "execute_result"
    }
   ],
   "source": [
    "a = pd.Series(np.random.randint(1, 10, [10]))\n",
    "b = pd.Series(a.unique())\n",
    "b"
   ]
  },
  {
   "cell_type": "markdown",
   "metadata": {},
   "source": [
    "- Преобразовать каждый символ объекта Series в верхний регистр"
   ]
  },
  {
   "cell_type": "code",
   "execution_count": 191,
   "metadata": {},
   "outputs": [
    {
     "data": {
      "text/plain": [
       "0    A\n",
       "1    B\n",
       "2    C\n",
       "3    D\n",
       "4    E\n",
       "dtype: object"
      ]
     },
     "execution_count": 191,
     "metadata": {},
     "output_type": "execute_result"
    }
   ],
   "source": [
    "s = pd.Series(['a','b','c','d', 'e'])\n",
    "res = pd.Series(i.title() for i in s)\n",
    "res"
   ]
  },
  {
   "cell_type": "markdown",
   "metadata": {},
   "source": [
    "- Преобразовать данных Series в строку"
   ]
  },
  {
   "cell_type": "code",
   "execution_count": 229,
   "metadata": {},
   "outputs": [
    {
     "data": {
      "text/plain": [
       "0    112\n",
       "1      b\n",
       "2      c\n",
       "3      d\n",
       "4      e\n",
       "dtype: object"
      ]
     },
     "execution_count": 229,
     "metadata": {},
     "output_type": "execute_result"
    }
   ],
   "source": [
    "s = pd.Series([112,'b','c','d', 'e'])\n",
    "#s.apply(str)\n",
    "pd.Series(str(i) for i in s)"
   ]
  },
  {
   "cell_type": "markdown",
   "metadata": {},
   "source": [
    "- Рассчитать количество символов в объекте Series"
   ]
  },
  {
   "cell_type": "code",
   "execution_count": 232,
   "metadata": {},
   "outputs": [
    {
     "data": {
      "text/plain": [
       "array([2, 1, 1, 1, 1])"
      ]
     },
     "execution_count": 232,
     "metadata": {},
     "output_type": "execute_result"
    }
   ],
   "source": [
    "s = pd.Series(['af','b','c','d', 'e'])\n",
    "np.asarray([len(i) for i in s])"
   ]
  },
  {
   "cell_type": "markdown",
   "metadata": {},
   "source": [
    "- Найти разность между объектом Series и смещением объекта Series на n"
   ]
  },
  {
   "cell_type": "code",
   "execution_count": 254,
   "metadata": {},
   "outputs": [
    {
     "data": {
      "text/plain": [
       "1    NaN\n",
       "2    4.0\n",
       "3    2.0\n",
       "4    1.0\n",
       "5    4.0\n",
       "6    3.0\n",
       "7    2.0\n",
       "dtype: float64"
      ]
     },
     "execution_count": 254,
     "metadata": {},
     "output_type": "execute_result"
    }
   ],
   "source": [
    "n = 1\n",
    "s = pd.Series([1, 5, 7, 8, 12, 15, 17])\n",
    "s.index += 1\n",
    "s.diff(periods = n)"
   ]
  },
  {
   "cell_type": "markdown",
   "metadata": {},
   "source": [
    "- Преобразовать разные форматы строк объекта Series в дату"
   ]
  },
  {
   "cell_type": "code",
   "execution_count": 275,
   "metadata": {},
   "outputs": [
    {
     "data": {
      "text/plain": [
       "(0   2019-02-14\n",
       " 1   2019-01-22\n",
       " 2   2019-03-01\n",
       " dtype: datetime64[ns],\n",
       " 0   2017-01-01\n",
       " 1   2018-02-02\n",
       " 2   2020-04-15\n",
       " dtype: datetime64[ns])"
      ]
     },
     "execution_count": 275,
     "metadata": {},
     "output_type": "execute_result"
    }
   ],
   "source": [
    "s1 = pd.Series(['2017/01/01', '2018-02-02', '15 Apr 2020'])\n",
    "s2 = pd.Series(['14.02.2019', '22.01.2019', '01.03.2019'])\n",
    " \n",
    "pd.to_datetime(s2, format='%d.%m.%Y'), pd.to_datetime(s1)"
   ]
  },
  {
   "cell_type": "markdown",
   "metadata": {},
   "source": [
    "- Получить год, месяц, день, день недели, номер дня в году от объекта Series (string)"
   ]
  },
  {
   "cell_type": "code",
   "execution_count": 286,
   "metadata": {},
   "outputs": [
    {
     "name": "stdout",
     "output_type": "stream",
     "text": [
      "['01 Jan 2018' '02-02-2011' '20120303' '2013/04/04' '2018-12-31'] \n",
      "\n",
      "\n",
      "0    2018\n",
      "1    2011\n",
      "2    2012\n",
      "3    2013\n",
      "4    2018\n",
      "dtype: int64\n",
      "\n",
      "0     1\n",
      "1     2\n",
      "2     3\n",
      "3     4\n",
      "4    12\n",
      "dtype: int64\n",
      "\n",
      "0     1\n",
      "1     2\n",
      "2     3\n",
      "3     4\n",
      "4    31\n",
      "dtype: int64\n",
      "\n",
      "0     1\n",
      "1     5\n",
      "2     9\n",
      "3    14\n",
      "4     1\n",
      "Name: week, dtype: UInt32\n",
      "\n",
      "0      1\n",
      "1     33\n",
      "2     63\n",
      "3     94\n",
      "4    365\n",
      "dtype: int64\n"
     ]
    }
   ],
   "source": [
    "from dateutil.parser import parse\n",
    " \n",
    "s = pd.Series(['01 Jan 2018', '02-02-2011', '20120303', '2013/04/04', '2018-12-31'])\n",
    "print(s.values, '\\n\\n')\n",
    "\n",
    "s_ts = s.map(lambda x: parse(x, yearfirst=True))\n",
    " \n",
    "print(s_ts.dt.year, s_ts.dt.month, s_ts.dt.day, s_ts.dt.isocalendar().week, s_ts.dt.dayofyear, sep = '\\n\\n')\n"
   ]
  },
  {
   "cell_type": "markdown",
   "metadata": {},
   "source": [
    "- Отобрать элементы объекта Series, кторые содержат не менее двух гласных"
   ]
  },
  {
   "cell_type": "code",
   "execution_count": 288,
   "metadata": {},
   "outputs": [
    {
     "data": {
      "text/plain": [
       "1        оооо\n",
       "2    орнамент\n",
       "4    Апельсин\n",
       "5       Mando\n",
       "dtype: object"
      ]
     },
     "execution_count": 288,
     "metadata": {},
     "output_type": "execute_result"
    }
   ],
   "source": [
    "from collections import Counter\n",
    "s = pd.Series(['ззз', 'оооо', 'орнамент', 'Python', 'Апельсин', 'Mando'])\n",
    "mask = s.map(lambda x: sum([Counter(x.lower()).get(i, 0) for i in list('aeiouаоиеёэыуюя')]) >= 2)\n",
    "s[mask]\n"
   ]
  },
  {
   "cell_type": "markdown",
   "metadata": {},
   "source": [
    "- Отобрать e-маилы из объекта Series"
   ]
  },
  {
   "cell_type": "code",
   "execution_count": 12,
   "metadata": {},
   "outputs": [
    {
     "data": {
      "text/plain": [
       "array([], dtype=object)"
      ]
     },
     "execution_count": 12,
     "metadata": {},
     "output_type": "execute_result"
    }
   ],
   "source": [
    "import re\n",
    " \n",
    "emails = pd.Series(['test text @test.com', '@mail.ru', 'test.2ru', 'test@pp'])\n",
    "pattern = '[A-Za-z0-9._%+-]+@[A-Za-z0-9.-]+\\\\.[A-Za-z]{2,4}'\n",
    "mask = emails.map(lambda x: bool(re.match(pattern, x)))\n",
    "\n",
    "emails[mask].values"
   ]
  },
  {
   "cell_type": "markdown",
   "metadata": {},
   "source": [
    "- Получить среднее значение каждого уникального объекта Series s1 через \"маску\" другого объекта Series s2"
   ]
  },
  {
   "cell_type": "code",
   "execution_count": 301,
   "metadata": {},
   "outputs": [
    {
     "data": {
      "text/plain": [
       "angel     3.5\n",
       "female    2.0\n",
       "male      4.0\n",
       "dtype: float64"
      ]
     },
     "execution_count": 301,
     "metadata": {},
     "output_type": "execute_result"
    }
   ],
   "source": [
    "n = 5\n",
    "\n",
    "s1 = pd.Series(np.random.choice(['female', 'male', 'satan', 'angel'], n))\n",
    "s2 = pd.Series(np.linspace(start=1,stop=n, num=n))\n",
    "s2.groupby(s1).mean()"
   ]
  },
  {
   "cell_type": "code",
   "execution_count": null,
   "metadata": {},
   "outputs": [],
   "source": []
  }
 ],
 "metadata": {
  "kernelspec": {
   "display_name": "Python 3",
   "language": "python",
   "name": "python3"
  },
  "language_info": {
   "codemirror_mode": {
    "name": "ipython",
    "version": 3
   },
   "file_extension": ".py",
   "mimetype": "text/x-python",
   "name": "python",
   "nbconvert_exporter": "python",
   "pygments_lexer": "ipython3",
   "version": "3.6.9"
  }
 },
 "nbformat": 4,
 "nbformat_minor": 4
}
