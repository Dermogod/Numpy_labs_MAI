{
 "cells": [
  {
   "cell_type": "markdown",
   "metadata": {},
   "source": [
    "### МАИ\n",
    "### ФИО студента: Меркулов Лев Владимирович\n",
    "### группа: Т120-101М-20\n",
    "### ФИО руководителя: Поповкин Александр Викторович\n",
    "### дата: 29.10.2020\n",
    "### Numpy, Лаб раб № 3\n",
    "### Москва, 2020 г."
   ]
  },
  {
   "cell_type": "code",
   "execution_count": 2,
   "metadata": {},
   "outputs": [],
   "source": [
    "import numpy as np"
   ]
  },
  {
   "cell_type": "markdown",
   "metadata": {},
   "source": [
    "1.Дан вектор [1, 2, 3, 4, 5], построить новый вектор с тремя нулями между каждым значением"
   ]
  },
  {
   "cell_type": "code",
   "execution_count": 3,
   "metadata": {},
   "outputs": [
    {
     "data": {
      "text/plain": [
       "array([1., 0., 0., 0., 2., 0., 0., 0., 3., 0., 0., 0., 4., 0., 0., 0., 5.])"
      ]
     },
     "execution_count": 3,
     "metadata": {},
     "output_type": "execute_result"
    }
   ],
   "source": [
    "arr = np.array([1,2,3,4,5])\n",
    "\n",
    "arr_new = np.zeros(len(arr) + (len(arr)-1)*3)\n",
    "arr_new[::3+1] = arr\n",
    "arr_new"
   ]
  },
  {
   "cell_type": "markdown",
   "metadata": {},
   "source": [
    "2.Поменять 2 строки в матрице"
   ]
  },
  {
   "cell_type": "code",
   "execution_count": 5,
   "metadata": {},
   "outputs": [
    {
     "name": "stdout",
     "output_type": "stream",
     "text": [
      "[[ 0  1  2  3  4]\n",
      " [ 5  6  7  8  9]\n",
      " [10 11 12 13 14]\n",
      " [15 16 17 18 19]\n",
      " [20 21 22 23 24]] \n",
      "\n",
      "[[ 5  6  7  8  9]\n",
      " [ 0  1  2  3  4]\n",
      " [10 11 12 13 14]\n",
      " [15 16 17 18 19]\n",
      " [20 21 22 23 24]]\n"
     ]
    }
   ],
   "source": [
    "A = np.arange(25).reshape(5,5)\n",
    "print(A, '\\n')\n",
    "A[[0,1]] = A[[1,0]]\n",
    "print(A)"
   ]
  },
  {
   "cell_type": "markdown",
   "metadata": {},
   "source": [
    "3.Рассмотрим набор из 10 троек, описывающих 10 треугольников (с общими вершинами), найти множество уникальных отрезков, составляющих все треугольники"
   ]
  },
  {
   "cell_type": "code",
   "execution_count": 6,
   "metadata": {},
   "outputs": [
    {
     "data": {
      "text/plain": [
       "array([( 0, 21), ( 0, 99), ( 1, 73), ( 1, 97), ( 2, 41), ( 2, 71),\n",
       "       ( 4, 23), ( 4, 46), (13, 28), (13, 52), (21, 99), (22, 44),\n",
       "       (22, 73), (23, 46), (26, 61), (26, 99), (28, 52), (29, 62),\n",
       "       (29, 79), (30, 78), (30, 85), (30, 98), (30, 99), (41, 71),\n",
       "       (44, 73), (61, 99), (62, 79), (73, 97), (78, 99), (85, 98)],\n",
       "      dtype=[('p0', '<i8'), ('p1', '<i8')])"
      ]
     },
     "execution_count": 6,
     "metadata": {},
     "output_type": "execute_result"
    }
   ],
   "source": [
    "faces = np.random.randint(0,100,(10,3))\n",
    "F = np.roll(faces.repeat(2,axis=1),-1,axis=1)\n",
    "F = F.reshape(len(F)*3,2)\n",
    "F = np.sort(F,axis=1)\n",
    "G = F.view( dtype=[('p0',F.dtype),('p1',F.dtype)] )\n",
    "G = np.unique(G)\n",
    "\n",
    "G\n"
   ]
  },
  {
   "cell_type": "markdown",
   "metadata": {},
   "source": [
    "4.Дан массив C; создать массив A, что np.bincount(A) == C"
   ]
  },
  {
   "cell_type": "code",
   "execution_count": 7,
   "metadata": {},
   "outputs": [
    {
     "data": {
      "text/plain": [
       "array([1, 1, 2, 3, 4, 4, 6])"
      ]
     },
     "execution_count": 7,
     "metadata": {},
     "output_type": "execute_result"
    }
   ],
   "source": [
    "C = np.bincount([1,1,2,3,4,4,6])\n",
    "\n",
    "np.repeat(np.arange(len(C)), C)"
   ]
  },
  {
   "cell_type": "markdown",
   "metadata": {},
   "source": [
    "5.Посчитать среднее, используя плавающее окно"
   ]
  },
  {
   "cell_type": "code",
   "execution_count": 13,
   "metadata": {},
   "outputs": [
    {
     "name": "stdout",
     "output_type": "stream",
     "text": [
      "[1. 2. 3. 4. 5. 6. 7. 8.]\n"
     ]
    }
   ],
   "source": [
    "def moving_average(a, n = 3):\n",
    "    ret = np.cumsum(a, dtype = float)\n",
    "    ret[n:] = ret[n:] - ret[:-n]\n",
    "    return ret[n - 1:] / n\n",
    "\n",
    "print(moving_average(np.arange(10), 3))"
   ]
  },
  {
   "cell_type": "markdown",
   "metadata": {},
   "source": [
    "6.Дан вектор Z, построить матрицу, первая строка которой (Z[0],Z[1],Z[2]), каждая последующая сдвинута на 1 (последняя (Z[-3],Z[-2],Z[-1]))"
   ]
  },
  {
   "cell_type": "code",
   "execution_count": 14,
   "metadata": {},
   "outputs": [
    {
     "name": "stdout",
     "output_type": "stream",
     "text": [
      "[[0 1 2]\n",
      " [1 2 3]\n",
      " [2 3 4]\n",
      " [3 4 5]\n",
      " [4 5 6]\n",
      " [5 6 7]\n",
      " [6 7 8]\n",
      " [7 8 9]]\n"
     ]
    }
   ],
   "source": [
    "from numpy.lib import stride_tricks\n",
    "\n",
    "def rolling(a, window):\n",
    "    shape = (a.size - window + 1, window)\n",
    "    strides = (a.itemsize, a.itemsize)\n",
    "    return stride_tricks.as_strided(a, shape=shape, strides=strides)\n",
    "Z = rolling(np.arange(10), 3)\n",
    "print(Z)"
   ]
  },
  {
   "cell_type": "markdown",
   "metadata": {},
   "source": [
    "7.Инвертировать булево значение, или поменять знак у числового массива без создания нового"
   ]
  },
  {
   "cell_type": "code",
   "execution_count": 18,
   "metadata": {},
   "outputs": [
    {
     "data": {
      "text/plain": [
       "array([1, 1, 1, 1, 1])"
      ]
     },
     "execution_count": 18,
     "metadata": {},
     "output_type": "execute_result"
    }
   ],
   "source": [
    "Z = np.random.randint(0,2,100)\n",
    "np.logical_not(arr, out = arr)"
   ]
  },
  {
   "cell_type": "code",
   "execution_count": 19,
   "metadata": {},
   "outputs": [
    {
     "data": {
      "text/plain": [
       "array([-1, -1, -1, -1, -1])"
      ]
     },
     "execution_count": 19,
     "metadata": {},
     "output_type": "execute_result"
    }
   ],
   "source": [
    "Z = np.random.uniform(-1.0,1.0,100)\n",
    "np.negative(arr, out=arr)"
   ]
  },
  {
   "cell_type": "markdown",
   "metadata": {},
   "source": [
    "8.Посчитать ранг матрицы"
   ]
  },
  {
   "cell_type": "code",
   "execution_count": 29,
   "metadata": {},
   "outputs": [
    {
     "name": "stdout",
     "output_type": "stream",
     "text": [
      "10\n"
     ]
    }
   ],
   "source": [
    "Z = np.random.uniform(0,1,(10,10))\n",
    "rank = np.linalg.matrix_rank(Z)\n",
    "print(rank)"
   ]
  },
  {
   "cell_type": "markdown",
   "metadata": {},
   "source": [
    "9.Найти наиболее частое значение в массиве"
   ]
  },
  {
   "cell_type": "code",
   "execution_count": 33,
   "metadata": {},
   "outputs": [
    {
     "name": "stdout",
     "output_type": "stream",
     "text": [
      "[6 8 7 7 3 8 4 3 0 3 7 2 1 6 4 4 4 4 1 4 9 6 3 3 1 5 8 5 1 7 4 2 4 2 3 3 8\n",
      " 2 1 6 4 8 7 3 1 9 1 5 1 0]\n",
      "4\n"
     ]
    }
   ],
   "source": [
    "Z = np.random.randint(0,10,50)\n",
    "print(Z)\n",
    "print(np.bincount(Z).argmax())"
   ]
  },
  {
   "cell_type": "markdown",
   "metadata": {},
   "source": [
    "10.Извлечь все смежные 3x3 блоки из 10x10 матрицы"
   ]
  },
  {
   "cell_type": "code",
   "execution_count": 40,
   "metadata": {},
   "outputs": [
    {
     "data": {
      "text/plain": [
       "array([[[[1, 4, 2],\n",
       "         [2, 1, 3],\n",
       "         [3, 0, 0]],\n",
       "\n",
       "        [[4, 2, 1],\n",
       "         [1, 3, 1],\n",
       "         [0, 0, 4]],\n",
       "\n",
       "        [[2, 1, 0],\n",
       "         [3, 1, 0],\n",
       "         [0, 4, 0]],\n",
       "\n",
       "        [[1, 0, 1],\n",
       "         [1, 0, 2],\n",
       "         [4, 0, 4]],\n",
       "\n",
       "        [[0, 1, 2],\n",
       "         [0, 2, 0],\n",
       "         [0, 4, 4]],\n",
       "\n",
       "        [[1, 2, 2],\n",
       "         [2, 0, 4],\n",
       "         [4, 4, 3]],\n",
       "\n",
       "        [[2, 2, 0],\n",
       "         [0, 4, 4],\n",
       "         [4, 3, 2]],\n",
       "\n",
       "        [[2, 0, 0],\n",
       "         [4, 4, 2],\n",
       "         [3, 2, 0]]],\n",
       "\n",
       "\n",
       "       [[[2, 1, 3],\n",
       "         [3, 0, 0],\n",
       "         [2, 0, 4]],\n",
       "\n",
       "        [[1, 3, 1],\n",
       "         [0, 0, 4],\n",
       "         [0, 4, 0]],\n",
       "\n",
       "        [[3, 1, 0],\n",
       "         [0, 4, 0],\n",
       "         [4, 0, 2]],\n",
       "\n",
       "        [[1, 0, 2],\n",
       "         [4, 0, 4],\n",
       "         [0, 2, 2]],\n",
       "\n",
       "        [[0, 2, 0],\n",
       "         [0, 4, 4],\n",
       "         [2, 2, 3]],\n",
       "\n",
       "        [[2, 0, 4],\n",
       "         [4, 4, 3],\n",
       "         [2, 3, 0]],\n",
       "\n",
       "        [[0, 4, 4],\n",
       "         [4, 3, 2],\n",
       "         [3, 0, 2]],\n",
       "\n",
       "        [[4, 4, 2],\n",
       "         [3, 2, 0],\n",
       "         [0, 2, 3]]],\n",
       "\n",
       "\n",
       "       [[[3, 0, 0],\n",
       "         [2, 0, 4],\n",
       "         [2, 1, 1]],\n",
       "\n",
       "        [[0, 0, 4],\n",
       "         [0, 4, 0],\n",
       "         [1, 1, 4]],\n",
       "\n",
       "        [[0, 4, 0],\n",
       "         [4, 0, 2],\n",
       "         [1, 4, 2]],\n",
       "\n",
       "        [[4, 0, 4],\n",
       "         [0, 2, 2],\n",
       "         [4, 2, 0]],\n",
       "\n",
       "        [[0, 4, 4],\n",
       "         [2, 2, 3],\n",
       "         [2, 0, 4]],\n",
       "\n",
       "        [[4, 4, 3],\n",
       "         [2, 3, 0],\n",
       "         [0, 4, 3]],\n",
       "\n",
       "        [[4, 3, 2],\n",
       "         [3, 0, 2],\n",
       "         [4, 3, 0]],\n",
       "\n",
       "        [[3, 2, 0],\n",
       "         [0, 2, 3],\n",
       "         [3, 0, 2]]],\n",
       "\n",
       "\n",
       "       [[[2, 0, 4],\n",
       "         [2, 1, 1],\n",
       "         [1, 4, 4]],\n",
       "\n",
       "        [[0, 4, 0],\n",
       "         [1, 1, 4],\n",
       "         [4, 4, 1]],\n",
       "\n",
       "        [[4, 0, 2],\n",
       "         [1, 4, 2],\n",
       "         [4, 1, 0]],\n",
       "\n",
       "        [[0, 2, 2],\n",
       "         [4, 2, 0],\n",
       "         [1, 0, 1]],\n",
       "\n",
       "        [[2, 2, 3],\n",
       "         [2, 0, 4],\n",
       "         [0, 1, 0]],\n",
       "\n",
       "        [[2, 3, 0],\n",
       "         [0, 4, 3],\n",
       "         [1, 0, 2]],\n",
       "\n",
       "        [[3, 0, 2],\n",
       "         [4, 3, 0],\n",
       "         [0, 2, 4]],\n",
       "\n",
       "        [[0, 2, 3],\n",
       "         [3, 0, 2],\n",
       "         [2, 4, 4]]],\n",
       "\n",
       "\n",
       "       [[[2, 1, 1],\n",
       "         [1, 4, 4],\n",
       "         [3, 3, 0]],\n",
       "\n",
       "        [[1, 1, 4],\n",
       "         [4, 4, 1],\n",
       "         [3, 0, 1]],\n",
       "\n",
       "        [[1, 4, 2],\n",
       "         [4, 1, 0],\n",
       "         [0, 1, 0]],\n",
       "\n",
       "        [[4, 2, 0],\n",
       "         [1, 0, 1],\n",
       "         [1, 0, 1]],\n",
       "\n",
       "        [[2, 0, 4],\n",
       "         [0, 1, 0],\n",
       "         [0, 1, 2]],\n",
       "\n",
       "        [[0, 4, 3],\n",
       "         [1, 0, 2],\n",
       "         [1, 2, 2]],\n",
       "\n",
       "        [[4, 3, 0],\n",
       "         [0, 2, 4],\n",
       "         [2, 2, 3]],\n",
       "\n",
       "        [[3, 0, 2],\n",
       "         [2, 4, 4],\n",
       "         [2, 3, 3]]],\n",
       "\n",
       "\n",
       "       [[[1, 4, 4],\n",
       "         [3, 3, 0],\n",
       "         [0, 2, 3]],\n",
       "\n",
       "        [[4, 4, 1],\n",
       "         [3, 0, 1],\n",
       "         [2, 3, 4]],\n",
       "\n",
       "        [[4, 1, 0],\n",
       "         [0, 1, 0],\n",
       "         [3, 4, 2]],\n",
       "\n",
       "        [[1, 0, 1],\n",
       "         [1, 0, 1],\n",
       "         [4, 2, 2]],\n",
       "\n",
       "        [[0, 1, 0],\n",
       "         [0, 1, 2],\n",
       "         [2, 2, 4]],\n",
       "\n",
       "        [[1, 0, 2],\n",
       "         [1, 2, 2],\n",
       "         [2, 4, 2]],\n",
       "\n",
       "        [[0, 2, 4],\n",
       "         [2, 2, 3],\n",
       "         [4, 2, 1]],\n",
       "\n",
       "        [[2, 4, 4],\n",
       "         [2, 3, 3],\n",
       "         [2, 1, 2]]],\n",
       "\n",
       "\n",
       "       [[[3, 3, 0],\n",
       "         [0, 2, 3],\n",
       "         [1, 2, 1]],\n",
       "\n",
       "        [[3, 0, 1],\n",
       "         [2, 3, 4],\n",
       "         [2, 1, 1]],\n",
       "\n",
       "        [[0, 1, 0],\n",
       "         [3, 4, 2],\n",
       "         [1, 1, 3]],\n",
       "\n",
       "        [[1, 0, 1],\n",
       "         [4, 2, 2],\n",
       "         [1, 3, 1]],\n",
       "\n",
       "        [[0, 1, 2],\n",
       "         [2, 2, 4],\n",
       "         [3, 1, 2]],\n",
       "\n",
       "        [[1, 2, 2],\n",
       "         [2, 4, 2],\n",
       "         [1, 2, 0]],\n",
       "\n",
       "        [[2, 2, 3],\n",
       "         [4, 2, 1],\n",
       "         [2, 0, 4]],\n",
       "\n",
       "        [[2, 3, 3],\n",
       "         [2, 1, 2],\n",
       "         [0, 4, 4]]],\n",
       "\n",
       "\n",
       "       [[[0, 2, 3],\n",
       "         [1, 2, 1],\n",
       "         [2, 0, 4]],\n",
       "\n",
       "        [[2, 3, 4],\n",
       "         [2, 1, 1],\n",
       "         [0, 4, 2]],\n",
       "\n",
       "        [[3, 4, 2],\n",
       "         [1, 1, 3],\n",
       "         [4, 2, 4]],\n",
       "\n",
       "        [[4, 2, 2],\n",
       "         [1, 3, 1],\n",
       "         [2, 4, 2]],\n",
       "\n",
       "        [[2, 2, 4],\n",
       "         [3, 1, 2],\n",
       "         [4, 2, 1]],\n",
       "\n",
       "        [[2, 4, 2],\n",
       "         [1, 2, 0],\n",
       "         [2, 1, 0]],\n",
       "\n",
       "        [[4, 2, 1],\n",
       "         [2, 0, 4],\n",
       "         [1, 0, 3]],\n",
       "\n",
       "        [[2, 1, 2],\n",
       "         [0, 4, 4],\n",
       "         [0, 3, 3]]]])"
      ]
     },
     "execution_count": 40,
     "metadata": {},
     "output_type": "execute_result"
    }
   ],
   "source": [
    "from numpy.lib import stride_tricks\n",
    "\n",
    "Z = np.random.randint(0,5,(10,10))\n",
    "n = 3\n",
    "i = 1 + (Z.shape[0] - n)\n",
    "j = 1 + (Z.shape[1] - n)\n",
    "C = stride_tricks.as_strided(Z, shape=(i, j, n, n), strides=Z.strides + Z.strides)\n",
    "C"
   ]
  },
  {
   "cell_type": "markdown",
   "metadata": {},
   "source": [
    "11.Рассмотрим множество матриц (n,n) и множество из p векторов (n,1). Посчитать сумму p произведений матриц (результат имеет размерность (n,1))"
   ]
  },
  {
   "cell_type": "code",
   "execution_count": 37,
   "metadata": {},
   "outputs": [
    {
     "data": {
      "text/plain": [
       "array([[200.],\n",
       "       [200.],\n",
       "       [200.],\n",
       "       [200.],\n",
       "       [200.],\n",
       "       [200.],\n",
       "       [200.],\n",
       "       [200.],\n",
       "       [200.],\n",
       "       [200.],\n",
       "       [200.],\n",
       "       [200.],\n",
       "       [200.],\n",
       "       [200.],\n",
       "       [200.],\n",
       "       [200.],\n",
       "       [200.],\n",
       "       [200.],\n",
       "       [200.],\n",
       "       [200.]])"
      ]
     },
     "execution_count": 37,
     "metadata": {},
     "output_type": "execute_result"
    }
   ],
   "source": [
    "p, n = 10, 20\n",
    "M = np.ones((p,n,n))\n",
    "V = np.ones((p,n,1))\n",
    "S = np.tensordot(M, V, axes=[[0, 2], [0, 1]])\n",
    "S"
   ]
  },
  {
   "cell_type": "markdown",
   "metadata": {},
   "source": [
    "12.Дан массив 16x16, посчитать сумму по блокам 4x4"
   ]
  },
  {
   "cell_type": "code",
   "execution_count": 39,
   "metadata": {},
   "outputs": [
    {
     "data": {
      "text/plain": [
       "array([[16., 16., 16., 16.],\n",
       "       [16., 16., 16., 16.],\n",
       "       [16., 16., 16., 16.],\n",
       "       [16., 16., 16., 16.]])"
      ]
     },
     "execution_count": 39,
     "metadata": {},
     "output_type": "execute_result"
    }
   ],
   "source": [
    "Z = np.ones((16,16))\n",
    "k = 4\n",
    "S = np.add.reduceat(np.add.reduceat(Z, np.arange(0, Z.shape[0], k), axis=0),\n",
    "                                       np.arange(0, Z.shape[1], k), axis=1)\n",
    "S"
   ]
  },
  {
   "cell_type": "markdown",
   "metadata": {},
   "source": [
    "13.Найти n наибольших значений в массиве"
   ]
  },
  {
   "cell_type": "code",
   "execution_count": 42,
   "metadata": {},
   "outputs": [
    {
     "name": "stdout",
     "output_type": "stream",
     "text": [
      "[9999 9997 9998 9996 9995]\n"
     ]
    }
   ],
   "source": [
    "Z = np.arange(10000)\n",
    "np.random.shuffle(Z)\n",
    "n = 5\n",
    "\n",
    "print (Z[np.argpartition(-Z,n)[:n]])"
   ]
  },
  {
   "cell_type": "markdown",
   "metadata": {},
   "source": [
    "14.Построить прямое произведение массивов (все комбинации с каждым элементом)"
   ]
  },
  {
   "cell_type": "code",
   "execution_count": 44,
   "metadata": {},
   "outputs": [
    {
     "name": "stdout",
     "output_type": "stream",
     "text": [
      "[[1 4 6]\n",
      " [1 4 7]\n",
      " [1 5 6]\n",
      " [1 5 7]\n",
      " [2 4 6]\n",
      " [2 4 7]\n",
      " [2 5 6]\n",
      " [2 5 7]\n",
      " [3 4 6]\n",
      " [3 4 7]\n",
      " [3 5 6]\n",
      " [3 5 7]]\n"
     ]
    }
   ],
   "source": [
    "def cartesian(arrays):\n",
    "    arrays = [np.asarray(a) for a in arrays]\n",
    "    shape = map(len, arrays)\n",
    "\n",
    "    ix = np.indices(shape, dtype=int)\n",
    "    ix = ix.reshape(len(arrays), -1).T\n",
    "\n",
    "    for n, arr in enumerate(arrays):\n",
    "        ix[:, n] = arrays[n][ix[:, n]]\n",
    "\n",
    "    return ix\n",
    "\n",
    "print(cartesian(([1, 2, 3], [4, 5], [6, 7])))"
   ]
  },
  {
   "cell_type": "markdown",
   "metadata": {},
   "source": [
    "15.Даны 2 массива A (8x3) и B (2x2). Найти строки в A, которые содержат элементы из каждой строки в B, независимо от порядка элементов в B"
   ]
  },
  {
   "cell_type": "code",
   "execution_count": 45,
   "metadata": {},
   "outputs": [
    {
     "name": "stdout",
     "output_type": "stream",
     "text": [
      "[0 2 3 5 6]\n"
     ]
    }
   ],
   "source": [
    "A = np.random.randint(0,5,(8,3))\n",
    "B = np.random.randint(0,5,(2,2))\n",
    "\n",
    "C = (A[..., np.newaxis, np.newaxis] == B)\n",
    "rows = (C.sum(axis=(1,2,3)) >= B.shape[1]).nonzero()[0]\n",
    "print(rows)"
   ]
  },
  {
   "cell_type": "markdown",
   "metadata": {},
   "source": [
    "16.Дана 10x3 матрица, найти строки из неравных значений (например [2,2,3])"
   ]
  },
  {
   "cell_type": "code",
   "execution_count": 47,
   "metadata": {},
   "outputs": [
    {
     "name": "stdout",
     "output_type": "stream",
     "text": [
      "[[1 0 4]\n",
      " [3 1 1]\n",
      " [1 2 4]\n",
      " [3 1 4]\n",
      " [0 3 2]\n",
      " [0 4 3]\n",
      " [1 2 4]\n",
      " [3 0 2]\n",
      " [1 2 0]\n",
      " [3 1 0]] \n",
      "\n",
      "[[1 0 4]\n",
      " [3 1 1]\n",
      " [1 2 4]\n",
      " [3 1 4]\n",
      " [0 3 2]\n",
      " [0 4 3]\n",
      " [1 2 4]\n",
      " [3 0 2]\n",
      " [1 2 0]\n",
      " [3 1 0]]\n"
     ]
    }
   ],
   "source": [
    "Z = np.random.randint(0,5,(10,3))\n",
    "E = np.logical_and.reduce(Z[:,1:] == Z[:,:-1], axis=1)\n",
    "U = Z[~E]\n",
    "print(Z, '\\n')\n",
    "print(U)"
   ]
  },
  {
   "cell_type": "markdown",
   "metadata": {},
   "source": [
    "17.Преобразовать вектор чисел в матрицу бинарных представлений"
   ]
  },
  {
   "cell_type": "code",
   "execution_count": 49,
   "metadata": {},
   "outputs": [
    {
     "name": "stdout",
     "output_type": "stream",
     "text": [
      "[[0 0 0 0 0 0 0 0]\n",
      " [0 0 0 0 0 0 0 1]\n",
      " [0 0 0 0 0 0 1 0]\n",
      " [0 0 0 0 0 0 1 1]\n",
      " [0 0 0 0 1 1 1 1]\n",
      " [0 0 0 1 0 0 0 0]\n",
      " [0 0 1 0 0 0 0 0]\n",
      " [0 1 0 0 0 0 0 0]\n",
      " [1 0 0 0 0 0 0 0]]\n"
     ]
    }
   ],
   "source": [
    "I = np.array([0, 1, 2, 3, 15, 16, 32, 64, 128], dtype=np.uint8)\n",
    "print(np.unpackbits(I[:, np.newaxis], axis=1))"
   ]
  },
  {
   "cell_type": "markdown",
   "metadata": {},
   "source": [
    "18.Дан двумерный массив. Найти все различные строки"
   ]
  },
  {
   "cell_type": "code",
   "execution_count": 50,
   "metadata": {},
   "outputs": [
    {
     "name": "stdout",
     "output_type": "stream",
     "text": [
      "[[0 0 1]\n",
      " [0 1 1]\n",
      " [1 0 0]\n",
      " [1 0 1]\n",
      " [1 1 0]]\n"
     ]
    }
   ],
   "source": [
    "Z = np.random.randint(0, 2, (6,3))\n",
    "T = np.ascontiguousarray(Z).view(np.dtype((np.void, Z.dtype.itemsize * Z.shape[1])))\n",
    "_, idx = np.unique(T, return_index=True)\n",
    "uZ = Z[idx]\n",
    "print(uZ)"
   ]
  },
  {
   "cell_type": "markdown",
   "metadata": {},
   "source": [
    "19.Даны векторы A и B, написать einsum эквиваленты функций inner, outer, sum и mul"
   ]
  },
  {
   "cell_type": "code",
   "execution_count": 53,
   "metadata": {},
   "outputs": [
    {
     "data": {
      "text/plain": [
       "4.708571830464958"
      ]
     },
     "execution_count": 53,
     "metadata": {},
     "output_type": "execute_result"
    }
   ],
   "source": [
    "# Useful docs for einsum -> http://ajcr.net/Basic-guide-to-einsum/\n",
    "\n",
    "A = np.random.random((10,))\n",
    "B = np.random.random((10,))\n",
    "\n",
    "np.einsum('i->', A)       # np.sum(A)\n"
   ]
  },
  {
   "cell_type": "code",
   "execution_count": 54,
   "metadata": {},
   "outputs": [
    {
     "data": {
      "text/plain": [
       "array([0.07637126, 0.00158144, 0.11854638, 0.49958688, 0.05570558,\n",
       "       0.03633975, 0.27394832, 0.03101302, 0.13105284, 0.65210247])"
      ]
     },
     "execution_count": 54,
     "metadata": {},
     "output_type": "execute_result"
    }
   ],
   "source": [
    "np.einsum('i,i->i', A, B) # A * B\n"
   ]
  },
  {
   "cell_type": "code",
   "execution_count": 55,
   "metadata": {},
   "outputs": [
    {
     "data": {
      "text/plain": [
       "1.876247943376812"
      ]
     },
     "execution_count": 55,
     "metadata": {},
     "output_type": "execute_result"
    }
   ],
   "source": [
    "np.einsum('i,i', A, B)    # np.inner(A, B)"
   ]
  },
  {
   "cell_type": "code",
   "execution_count": 56,
   "metadata": {},
   "outputs": [
    {
     "data": {
      "text/plain": [
       "array([[7.63712641e-02, 2.87337359e-01, 8.16901703e-02, 2.31911356e-01,\n",
       "        6.19833566e-02, 2.91746817e-02, 2.77146976e-01, 8.72930187e-02,\n",
       "        5.26387869e-02, 2.94393464e-01],\n",
       "       [4.20330632e-04, 1.58144160e-03, 4.49604721e-04, 1.27638907e-03,\n",
       "        3.41142755e-04, 1.60571028e-04, 1.52535597e-03, 4.80441566e-04,\n",
       "        2.89712300e-04, 1.62027684e-03],\n",
       "       [1.10827742e-01, 4.16975561e-01, 1.18546383e-01, 3.36542969e-01,\n",
       "        8.99484318e-02, 4.23374437e-02, 4.02187575e-01, 1.26677072e-01,\n",
       "        7.63878660e-02, 4.27215173e-01],\n",
       "       [1.64520108e-01, 6.18986394e-01, 1.75978174e-01, 4.99586878e-01,\n",
       "        1.33525464e-01, 6.28485313e-02, 5.97034119e-01, 1.88047913e-01,\n",
       "        1.13395254e-01, 6.34186758e-01],\n",
       "       [6.86362549e-02, 2.58235352e-01, 7.34164535e-02, 2.08422987e-01,\n",
       "        5.57055787e-02, 2.62198212e-02, 2.49077068e-01, 7.84518360e-02,\n",
       "        4.73074426e-02, 2.64576802e-01],\n",
       "       [9.51274250e-02, 3.57905077e-01, 1.01752611e-01, 2.88866898e-01,\n",
       "        7.72059645e-02, 3.63397461e-02, 3.45212018e-01, 1.08731474e-01,\n",
       "        6.55664445e-02, 3.66694103e-01],\n",
       "       [7.54898361e-02, 2.84021097e-01, 8.07473549e-02, 2.29234785e-01,\n",
       "        6.12679845e-02, 2.88379663e-02, 2.73948324e-01, 8.62855389e-02,\n",
       "        5.20312639e-02, 2.90995764e-01],\n",
       "       [2.71327926e-02, 1.02083749e-01, 2.90224664e-02, 8.23922822e-02,\n",
       "        2.20211303e-02, 1.03650319e-02, 9.84633621e-02, 3.10130178e-02,\n",
       "        1.87012393e-02, 1.04590606e-01],\n",
       "       [1.90138712e-01, 7.15373199e-01, 2.03380997e-01, 5.77381129e-01,\n",
       "        1.54317671e-01, 7.26351263e-02, 6.90002579e-01, 2.17330201e-01,\n",
       "        1.31052841e-01, 7.32940521e-01],\n",
       "       [1.69167784e-01, 6.36472696e-01, 1.80949540e-01, 5.13700156e-01,\n",
       "        1.37297545e-01, 6.46239959e-02, 6.13900272e-01, 1.93360248e-01,\n",
       "        1.16598658e-01, 6.52102469e-01]])"
      ]
     },
     "execution_count": 56,
     "metadata": {},
     "output_type": "execute_result"
    }
   ],
   "source": [
    "np.einsum('i,j', A, B)    # np.outer(A, B)"
   ]
  },
  {
   "cell_type": "code",
   "execution_count": null,
   "metadata": {},
   "outputs": [],
   "source": []
  }
 ],
 "metadata": {
  "kernelspec": {
   "display_name": "Python 3",
   "language": "python",
   "name": "python3"
  },
  "language_info": {
   "codemirror_mode": {
    "name": "ipython",
    "version": 3
   },
   "file_extension": ".py",
   "mimetype": "text/x-python",
   "name": "python",
   "nbconvert_exporter": "python",
   "pygments_lexer": "ipython3",
   "version": "3.6.9"
  }
 },
 "nbformat": 4,
 "nbformat_minor": 4
}
