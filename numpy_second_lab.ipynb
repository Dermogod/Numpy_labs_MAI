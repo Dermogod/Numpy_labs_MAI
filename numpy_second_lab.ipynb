{
 "cells": [
  {
   "cell_type": "markdown",
   "metadata": {},
   "source": [
    "### Меркулов Лев Владимирович\n",
    "### Т120-101М-20\n",
    "### 29.10.2020\n",
    "### Numpy, Лаба № 2"
   ]
  },
  {
   "cell_type": "code",
   "execution_count": 1,
   "metadata": {},
   "outputs": [],
   "source": [
    "import numpy as np"
   ]
  },
  {
   "cell_type": "markdown",
   "metadata": {},
   "source": [
    "1.Перемножить матрицы 5x3 и 3x2"
   ]
  },
  {
   "cell_type": "code",
   "execution_count": 37,
   "metadata": {
    "scrolled": true
   },
   "outputs": [
    {
     "data": {
      "text/plain": [
       "array([[ 8,  6],\n",
       "       [18, 13],\n",
       "       [ 6,  4],\n",
       "       [ 2,  1],\n",
       "       [ 4,  3]])"
      ]
     },
     "execution_count": 37,
     "metadata": {},
     "output_type": "execute_result"
    }
   ],
   "source": [
    "a = np.random.randint(5, size=(5,3))\n",
    "aa = np.random.randint(5, size=(3,2))\n",
    "np.dot(a, aa)"
   ]
  },
  {
   "cell_type": "markdown",
   "metadata": {},
   "source": [
    "2.Дан массив, поменять знак у элементов, значения которых между 3 и 8"
   ]
  },
  {
   "cell_type": "code",
   "execution_count": 58,
   "metadata": {},
   "outputs": [
    {
     "data": {
      "text/plain": [
       "array([ 0,  1,  2,  3, -4, -5, -6, -7,  8,  9, 10, 11])"
      ]
     },
     "execution_count": 58,
     "metadata": {},
     "output_type": "execute_result"
    }
   ],
   "source": [
    "a = np.arange(12)\n",
    "a[(a >3 ) & (a < 8)] *= -1\n",
    "a"
   ]
  },
  {
   "cell_type": "markdown",
   "metadata": {},
   "source": [
    "3.Создать 5x5 матрицу со значениями в строках от 0 до 4"
   ]
  },
  {
   "cell_type": "code",
   "execution_count": 80,
   "metadata": {},
   "outputs": [
    {
     "data": {
      "text/plain": [
       "array([[0, 1, 2, 3, 4],\n",
       "       [0, 1, 2, 3, 4],\n",
       "       [0, 1, 2, 3, 4],\n",
       "       [0, 1, 2, 3, 4],\n",
       "       [0, 1, 2, 3, 4]])"
      ]
     },
     "execution_count": 80,
     "metadata": {},
     "output_type": "execute_result"
    }
   ],
   "source": [
    "np.tile(np.arange(5), 5).reshape(5,5)\n"
   ]
  },
  {
   "cell_type": "markdown",
   "metadata": {},
   "source": [
    "4.Есть генератор, сделать с его помощью массив"
   ]
  },
  {
   "cell_type": "code",
   "execution_count": 95,
   "metadata": {},
   "outputs": [
    {
     "data": {
      "text/plain": [
       "array([0, 1, 2, 3, 4, 5, 6, 7, 8, 9])"
      ]
     },
     "execution_count": 95,
     "metadata": {},
     "output_type": "execute_result"
    }
   ],
   "source": [
    "def gen(n):\n",
    "    for i in range(n):\n",
    "        yield i\n",
    "np.fromiter(gen(10), np.int)"
   ]
  },
  {
   "cell_type": "markdown",
   "metadata": {},
   "source": [
    "5.Создать вектор размера 10 со значениями от 0 до 1, не включая ни то, ни другое"
   ]
  },
  {
   "cell_type": "code",
   "execution_count": 101,
   "metadata": {},
   "outputs": [
    {
     "data": {
      "text/plain": [
       "array([0.09090909, 0.18181818, 0.27272727, 0.36363636, 0.45454545,\n",
       "       0.54545455, 0.63636364, 0.72727273, 0.81818182, 0.90909091])"
      ]
     },
     "execution_count": 101,
     "metadata": {},
     "output_type": "execute_result"
    }
   ],
   "source": [
    "np.linspace(0, 1, 11, endpoint=False)[1:]"
   ]
  },
  {
   "cell_type": "markdown",
   "metadata": {},
   "source": [
    "6.Отсортировать вектор"
   ]
  },
  {
   "cell_type": "code",
   "execution_count": 112,
   "metadata": {},
   "outputs": [
    {
     "name": "stdout",
     "output_type": "stream",
     "text": [
      "[0.22758834 0.23034909 0.2482866  0.28677283 0.3191811  0.38841336\n",
      " 0.40027615 0.40851455 0.43482853 0.67513793]\n"
     ]
    }
   ],
   "source": [
    "a = np.random.random(10)\n",
    "a.sort()\n",
    "print(a)"
   ]
  },
  {
   "cell_type": "markdown",
   "metadata": {},
   "source": [
    "7.Проверить, одинаковы ли 2 numpy массива"
   ]
  },
  {
   "cell_type": "code",
   "execution_count": 120,
   "metadata": {},
   "outputs": [
    {
     "data": {
      "text/plain": [
       "False"
      ]
     },
     "execution_count": 120,
     "metadata": {},
     "output_type": "execute_result"
    }
   ],
   "source": [
    "np.allclose(np.random.random(10), np.random.random(10))"
   ]
  },
  {
   "cell_type": "markdown",
   "metadata": {},
   "source": [
    "8.Сделать массив неизменяемым"
   ]
  },
  {
   "cell_type": "code",
   "execution_count": 127,
   "metadata": {},
   "outputs": [
    {
     "ename": "ValueError",
     "evalue": "assignment destination is read-only",
     "output_type": "error",
     "traceback": [
      "\u001b[0;31m---------------------------------------------------------------------------\u001b[0m",
      "\u001b[0;31mValueError\u001b[0m                                Traceback (most recent call last)",
      "\u001b[0;32m<ipython-input-127-2442f12181f2>\u001b[0m in \u001b[0;36m<module>\u001b[0;34m\u001b[0m\n\u001b[1;32m      2\u001b[0m \u001b[0ma\u001b[0m\u001b[0;34m.\u001b[0m\u001b[0mflags\u001b[0m\u001b[0;34m.\u001b[0m\u001b[0mwriteable\u001b[0m \u001b[0;34m=\u001b[0m \u001b[0;32mFalse\u001b[0m\u001b[0;34m\u001b[0m\u001b[0;34m\u001b[0m\u001b[0m\n\u001b[1;32m      3\u001b[0m \u001b[0;31m#a = frozenset(a)\u001b[0m\u001b[0;34m\u001b[0m\u001b[0;34m\u001b[0m\u001b[0;34m\u001b[0m\u001b[0m\n\u001b[0;32m----> 4\u001b[0;31m \u001b[0ma\u001b[0m\u001b[0;34m[\u001b[0m\u001b[0;36m0\u001b[0m\u001b[0;34m]\u001b[0m \u001b[0;34m=\u001b[0m \u001b[0;36m1\u001b[0m\u001b[0;34m\u001b[0m\u001b[0;34m\u001b[0m\u001b[0m\n\u001b[0m",
      "\u001b[0;31mValueError\u001b[0m: assignment destination is read-only"
     ]
    }
   ],
   "source": [
    "a = np.arange(10)\n",
    "a.flags.writeable = False\n",
    "#a = frozenset(a)\n",
    "a[0] = 1"
   ]
  },
  {
   "cell_type": "markdown",
   "metadata": {},
   "source": [
    "9.Дан массив 10x2 (точки в декартовой системе координат), преобразовать в полярную"
   ]
  },
  {
   "cell_type": "code",
   "execution_count": 144,
   "metadata": {},
   "outputs": [
    {
     "data": {
      "text/plain": [
       "array([[0.1061048 , 0.58422655, 0.96735333, 0.95146393, 0.85347077,\n",
       "        0.66225754, 1.18547638, 1.00917748, 0.95101639, 0.2121172 ],\n",
       "       [0.29577831, 0.43010599, 1.06999049, 1.16845393, 0.48549488,\n",
       "        1.11300706, 0.7863603 , 0.41713897, 0.11071471, 0.55797631]])"
      ]
     },
     "execution_count": 144,
     "metadata": {},
     "output_type": "execute_result"
    }
   ],
   "source": [
    "coordinates = np.random.random((10, 2))\n",
    "\n",
    "x, y = coordinates[:, 0], coordinates[:, 1]\n",
    "\n",
    "radius = np.sqrt(x**2 + y**2)\n",
    "angle = np.arctan2(y, x)\n",
    "\n",
    "np.array([radius, angle])"
   ]
  },
  {
   "cell_type": "markdown",
   "metadata": {},
   "source": [
    "10.Заменить максимальный элемент на ноль"
   ]
  },
  {
   "cell_type": "code",
   "execution_count": 145,
   "metadata": {},
   "outputs": [
    {
     "name": "stdout",
     "output_type": "stream",
     "text": [
      "[ 0  1  2  3  4  5  6  7  8  9 10 11 12 13 14 15 16 17 18  0]\n"
     ]
    }
   ],
   "source": [
    "a = np.arange(20)\n",
    "a[max(a)] = 0\n",
    "print(a)"
   ]
  },
  {
   "cell_type": "markdown",
   "metadata": {},
   "source": [
    "11.Создать структурированный массив с координатами x, y на сетке в квадрате [0,1]x[0,1]"
   ]
  },
  {
   "cell_type": "code",
   "execution_count": 156,
   "metadata": {},
   "outputs": [
    {
     "name": "stdout",
     "output_type": "stream",
     "text": [
      "[[(0.        , 0.        ) (0.33333333, 0.        )\n",
      "  (0.66666667, 0.        ) (1.        , 0.        )]\n",
      " [(0.        , 0.33333333) (0.33333333, 0.33333333)\n",
      "  (0.66666667, 0.33333333) (1.        , 0.33333333)]\n",
      " [(0.        , 0.66666667) (0.33333333, 0.66666667)\n",
      "  (0.66666667, 0.66666667) (1.        , 0.66666667)]\n",
      " [(0.        , 1.        ) (0.33333333, 1.        )\n",
      "  (0.66666667, 1.        ) (1.        , 1.        )]]\n"
     ]
    }
   ],
   "source": [
    "Z = np.zeros((4,4), [('x',float),('y',float)])\n",
    "Z['x'], Z['y'] = np.meshgrid(np.linspace(0,1,4),\n",
    "                             np.linspace(0,1,4))\n",
    "print(Z)"
   ]
  },
  {
   "cell_type": "markdown",
   "metadata": {},
   "source": [
    "12.Из двух массивов сделать матрицу Коши C (Cij = 1/(xi - yj))"
   ]
  },
  {
   "cell_type": "code",
   "execution_count": 163,
   "metadata": {},
   "outputs": [
    {
     "name": "stdout",
     "output_type": "stream",
     "text": [
      "[[-2.         -0.66666667 -0.4        -0.28571429 -0.22222222 -0.18181818\n",
      "  -0.15384615 -0.13333333]\n",
      " [ 2.         -2.         -0.66666667 -0.4        -0.28571429 -0.22222222\n",
      "  -0.18181818 -0.15384615]\n",
      " [ 0.66666667  2.         -2.         -0.66666667 -0.4        -0.28571429\n",
      "  -0.22222222 -0.18181818]\n",
      " [ 0.4         0.66666667  2.         -2.         -0.66666667 -0.4\n",
      "  -0.28571429 -0.22222222]\n",
      " [ 0.28571429  0.4         0.66666667  2.         -2.         -0.66666667\n",
      "  -0.4        -0.28571429]\n",
      " [ 0.22222222  0.28571429  0.4         0.66666667  2.         -2.\n",
      "  -0.66666667 -0.4       ]\n",
      " [ 0.18181818  0.22222222  0.28571429  0.4         0.66666667  2.\n",
      "  -2.         -0.66666667]\n",
      " [ 0.15384615  0.18181818  0.22222222  0.28571429  0.4         0.66666667\n",
      "   2.         -2.        ]]\n"
     ]
    }
   ],
   "source": [
    "X = np.arange(8)\n",
    "Y = X + 0.5\n",
    "C = 1.0 / np.subtract.outer(X, Y)\n",
    "print(C)"
   ]
  },
  {
   "cell_type": "markdown",
   "metadata": {},
   "source": [
    "13.Найти минимальное и максимальное значение, принимаемое каждым числовым типом numpy"
   ]
  },
  {
   "cell_type": "code",
   "execution_count": 168,
   "metadata": {},
   "outputs": [
    {
     "name": "stdout",
     "output_type": "stream",
     "text": [
      "--------int--------\n",
      "<class 'numpy.uint64'> 0 18446744073709551615\n",
      "<class 'numpy.uint64'> 0 18446744073709551615\n",
      "<class 'numpy.uint16'> 0 65535\n",
      "<class 'numpy.uint32'> 0 4294967295\n",
      "<class 'numpy.uint64'> 0 18446744073709551615\n",
      "<class 'numpy.uint8'> 0 255\n",
      "<class 'numpy.uint32'> 0 4294967295\n",
      "<class 'numpy.uint64'> 0 18446744073709551615\n",
      "<class 'int'> -9223372036854775808 9223372036854775807\n",
      "<class 'numpy.int64'> -9223372036854775808 9223372036854775807\n",
      "<class 'numpy.int16'> -32768 32767\n",
      "<class 'numpy.int32'> -2147483648 2147483647\n",
      "<class 'numpy.int64'> -9223372036854775808 9223372036854775807\n",
      "<class 'numpy.int8'> -128 127\n",
      "<class 'numpy.int32'> -2147483648 2147483647\n",
      "<class 'numpy.integer'> -9223372036854775808 9223372036854775807\n",
      "<class 'numpy.int64'> -9223372036854775808 9223372036854775807\n",
      "\n",
      " --------float--------\n",
      "<class 'float'> -1.7976931348623157e+308 1.7976931348623157e+308 2.220446049250313e-16\n",
      "<class 'numpy.float128'> -1.189731495357231765e+4932 1.189731495357231765e+4932 1.084202172485504434e-19\n",
      "<class 'numpy.float16'> -65500.0 65500.0 0.000977\n",
      "<class 'numpy.float32'> -3.4028235e+38 3.4028235e+38 1.1920929e-07\n",
      "<class 'numpy.float64'> -1.7976931348623157e+308 1.7976931348623157e+308 2.220446049250313e-16\n"
     ]
    }
   ],
   "source": [
    "np_int_types = [\n",
    "    np.uint, np.uint0, np.uint16, np.uint32, np.uint64, np.uint8, np.uintc, np.uintp,\n",
    "    np.int, np.int0, np.int16, np.int32, np.int64, np.int8, np.intc, np.integer, np.intp,\n",
    "]\n",
    "np_float_types = [\n",
    "    np.float, np.float128, np.float16, np.float32, np.float64,\n",
    "]\n",
    "\n",
    "print('--------int--------')\n",
    "for t in np_int_types:\n",
    "    type_info = np.iinfo(t)\n",
    "    print(t, type_info.min, type_info.max)\n",
    "\n",
    "print('\\n','--------float--------')\n",
    "for t in np_float_types:\n",
    "    type_info = np.finfo(t)\n",
    "    print(t, type_info.min, type_info.max, type_info.eps)"
   ]
  },
  {
   "cell_type": "markdown",
   "metadata": {},
   "source": [
    "14.Напечатать все значения в массиве"
   ]
  },
  {
   "cell_type": "code",
   "execution_count": 173,
   "metadata": {},
   "outputs": [
    {
     "name": "stdout",
     "output_type": "stream",
     "text": [
      "0 1 2 3 4 5 6 7 8 9 "
     ]
    }
   ],
   "source": [
    "a = np.arange(10)\n",
    "for i in a:\n",
    "    print(a[i], end = ' ')"
   ]
  },
  {
   "cell_type": "markdown",
   "metadata": {},
   "source": [
    "15.Найти ближайшее к заданному значению число в заданном массиве"
   ]
  },
  {
   "cell_type": "code",
   "execution_count": 186,
   "metadata": {},
   "outputs": [
    {
     "name": "stdout",
     "output_type": "stream",
     "text": [
      "[2 0 2 1 1 3 4 2 3 0]\n",
      "6\n"
     ]
    }
   ],
   "source": [
    "a = np.random.randint(5, size = 10)\n",
    "def find(arr, value):\n",
    "    index = np.abs(arr - value).argmin()\n",
    "    return index\n",
    "print(a, find(a, 4), sep = '\\n')"
   ]
  },
  {
   "cell_type": "markdown",
   "metadata": {},
   "source": [
    "16.Создать структурированный массив, представляющий координату (x,y) и цвет (r,g,b)"
   ]
  },
  {
   "cell_type": "code",
   "execution_count": 192,
   "metadata": {},
   "outputs": [
    {
     "data": {
      "text/plain": [
       "array([(0, 0, [0, 0, 0]), (0, 0, [0, 0, 0]), (0, 0, [0, 0, 0]),\n",
       "       (0, 0, [0, 0, 0]), (0, 0, [0, 0, 0]), (0, 0, [0, 0, 0]),\n",
       "       (0, 0, [0, 0, 0]), (0, 0, [0, 0, 0]), (0, 0, [0, 0, 0]),\n",
       "       (0, 0, [0, 0, 0])],\n",
       "      dtype=[('x', '<i8'), ('y', '<i8'), ('color', '<i8', (3,))])"
      ]
     },
     "execution_count": 192,
     "metadata": {},
     "output_type": "execute_result"
    }
   ],
   "source": [
    "np.zeros(10, dtype=[('x', np.int), ('y', np.int), ('color', np.int, (3,))])"
   ]
  },
  {
   "cell_type": "markdown",
   "metadata": {},
   "source": [
    "17.Дан массив (100,2) координат, найти расстояние от каждой точки до каждой"
   ]
  },
  {
   "cell_type": "code",
   "execution_count": 198,
   "metadata": {},
   "outputs": [
    {
     "data": {
      "text/plain": [
       "array([[0.        , 0.34807551, 0.46100754, ..., 0.3209913 , 0.21558084,\n",
       "        0.20990393],\n",
       "       [0.34807551, 0.        , 0.54824667, ..., 0.03237432, 0.47137389,\n",
       "        0.37621376],\n",
       "       [0.46100754, 0.54824667, 0.        , ..., 0.51909412, 0.28684355,\n",
       "        0.25178268],\n",
       "       ...,\n",
       "       [0.3209913 , 0.03237432, 0.51909412, ..., 0.        , 0.43922373,\n",
       "        0.34385462],\n",
       "       [0.21558084, 0.47137389, 0.28684355, ..., 0.43922373, 0.        ,\n",
       "        0.11256747],\n",
       "       [0.20990393, 0.37621376, 0.25178268, ..., 0.34385462, 0.11256747,\n",
       "        0.        ]])"
      ]
     },
     "execution_count": 198,
     "metadata": {},
     "output_type": "execute_result"
    }
   ],
   "source": [
    "coordinates = np.random.random((100, 2))\n",
    "\n",
    "distances = np.zeros((100, 100))\n",
    "\n",
    "for i in range(100):\n",
    "    point_first = coordinates[i]\n",
    "    for j in range(100):\n",
    "        point_second = coordinates[j]\n",
    "\n",
    "        distances[i][j] = np.linalg.norm(np.abs(point_first - point_second))\n",
    "\n",
    "distances"
   ]
  },
  {
   "cell_type": "markdown",
   "metadata": {},
   "source": [
    "18.Преобразовать массив из float в int"
   ]
  },
  {
   "cell_type": "code",
   "execution_count": 206,
   "metadata": {},
   "outputs": [
    {
     "data": {
      "text/plain": [
       "array([0, 0, 0, 0, 0, 0, 0, 0, 0, 0])"
      ]
     },
     "execution_count": 206,
     "metadata": {},
     "output_type": "execute_result"
    }
   ],
   "source": [
    "np.random.random(10).astype(np.int)"
   ]
  },
  {
   "cell_type": "markdown",
   "metadata": {},
   "source": [
    "19.Дан файл:\n",
    "\n",
    "`1,2,3,4,5\n",
    "   6,,,7,8\n",
    " ,,9,10,11`\n",
    "\n",
    "Как прочитать его?"
   ]
  },
  {
   "cell_type": "code",
   "execution_count": 208,
   "metadata": {},
   "outputs": [
    {
     "data": {
      "text/plain": [
       "array([[ 1.,  2.,  3.,  4.,  5.],\n",
       "       [ 6., nan, nan,  7.,  8.],\n",
       "       [nan, nan,  9., 10., 11.]])"
      ]
     },
     "execution_count": 208,
     "metadata": {},
     "output_type": "execute_result"
    }
   ],
   "source": [
    "with open('./test_file.txt', 'w') as f:\n",
    "    f.write('1,2,3,4,5\\n6,,,7,8\\n,,9,10,11')\n",
    "\n",
    "np.genfromtxt('./test_file.txt', delimiter = ',')"
   ]
  },
  {
   "cell_type": "markdown",
   "metadata": {},
   "source": [
    "20.Каков эквивалент функции enumerate для numpy массивов?"
   ]
  },
  {
   "cell_type": "code",
   "execution_count": 209,
   "metadata": {},
   "outputs": [
    {
     "data": {
      "text/plain": [
       "[((0,), 0),\n",
       " ((1,), 1),\n",
       " ((2,), 2),\n",
       " ((3,), 3),\n",
       " ((4,), 4),\n",
       " ((5,), 5),\n",
       " ((6,), 6),\n",
       " ((7,), 7),\n",
       " ((8,), 8),\n",
       " ((9,), 9)]"
      ]
     },
     "execution_count": 209,
     "metadata": {},
     "output_type": "execute_result"
    }
   ],
   "source": [
    "list(np.ndenumerate(np.arange(10)))"
   ]
  },
  {
   "cell_type": "markdown",
   "metadata": {},
   "source": [
    "21.Сформировать 2D массив с распределением Гаусса"
   ]
  },
  {
   "cell_type": "code",
   "execution_count": 210,
   "metadata": {},
   "outputs": [
    {
     "data": {
      "text/plain": [
       "array([[ 1.57751209, -2.10618231],\n",
       "       [-0.85242836, -0.12423121]])"
      ]
     },
     "execution_count": 210,
     "metadata": {},
     "output_type": "execute_result"
    }
   ],
   "source": [
    "np.random.normal(size=(2, 2))"
   ]
  },
  {
   "cell_type": "markdown",
   "metadata": {},
   "source": [
    "22.Случайно расположить p элементов в 2D массив"
   ]
  },
  {
   "cell_type": "code",
   "execution_count": 214,
   "metadata": {},
   "outputs": [
    {
     "data": {
      "text/plain": [
       "array([[0., 0., 1., 0., 0.],\n",
       "       [0., 0., 1., 0., 0.],\n",
       "       [0., 0., 0., 0., 0.],\n",
       "       [0., 0., 0., 0., 0.],\n",
       "       [1., 0., 0., 0., 0.]])"
      ]
     },
     "execution_count": 214,
     "metadata": {},
     "output_type": "execute_result"
    }
   ],
   "source": [
    "n = 5\n",
    "p = 3\n",
    "a = np.zeros((n,n))\n",
    "np.put(a, np.random.choice(range(n*n), p, replace=False), 1)\n",
    "a"
   ]
  },
  {
   "cell_type": "markdown",
   "metadata": {},
   "source": [
    "23.Отнять среднее из каждой строки в матрице"
   ]
  },
  {
   "cell_type": "code",
   "execution_count": 239,
   "metadata": {},
   "outputs": [
    {
     "data": {
      "text/plain": [
       "array([[ 0, -1,  2, -1, -1],\n",
       "       [ 0, -1, -2,  3,  3],\n",
       "       [-1,  2,  0,  1,  1],\n",
       "       [-1,  0, -1,  2, -1],\n",
       "       [ 3, -2, -1,  1,  1]])"
      ]
     },
     "execution_count": 239,
     "metadata": {},
     "output_type": "execute_result"
    }
   ],
   "source": [
    "a = np.random.randint(5,size = (5,5))\n",
    "res = a - a.mean(axis = 1, dtype = int)\n",
    "res"
   ]
  },
  {
   "cell_type": "markdown",
   "metadata": {},
   "source": [
    "24.Отсортировать матрицу по n-ому столбцу"
   ]
  },
  {
   "cell_type": "code",
   "execution_count": 240,
   "metadata": {},
   "outputs": [
    {
     "data": {
      "text/plain": [
       "array([[ 0,  1,  2,  3,  4],\n",
       "       [ 5,  6,  7,  8,  9],\n",
       "       [10, 11, 12, 13, 14],\n",
       "       [15, 16, 17, 18, 19],\n",
       "       [20, 21, 22, 23, 24]])"
      ]
     },
     "execution_count": 240,
     "metadata": {},
     "output_type": "execute_result"
    }
   ],
   "source": [
    "N = 3\n",
    "matrix = np.arange(25).reshape(5, 5)[::-1]\n",
    "\n",
    "matrix[matrix[:,N].argsort()]"
   ]
  },
  {
   "cell_type": "markdown",
   "metadata": {},
   "source": [
    "25.Определить, есть ли в 2D массиве нулевые столбцы"
   ]
  },
  {
   "cell_type": "code",
   "execution_count": 253,
   "metadata": {},
   "outputs": [
    {
     "data": {
      "text/plain": [
       "array([False, False, False, False])"
      ]
     },
     "execution_count": 253,
     "metadata": {},
     "output_type": "execute_result"
    }
   ],
   "source": [
    "arr = np.random.randint(0,3,(4,4))\n",
    "np.all((arr == 0), axis=1)"
   ]
  },
  {
   "cell_type": "markdown",
   "metadata": {},
   "source": [
    "26.Дан массив, добавить 1 к каждому элементу с индексом, заданным в другом массиве (осторожно с повторами)"
   ]
  },
  {
   "cell_type": "code",
   "execution_count": 256,
   "metadata": {},
   "outputs": [
    {
     "name": "stdout",
     "output_type": "stream",
     "text": [
      "[3. 4. 3. 5. 2. 3. 1. 4. 2. 3.]\n"
     ]
    }
   ],
   "source": [
    "a = np.ones(10)\n",
    "b = np.random.randint(0,len(a),20)\n",
    "a += np.bincount(b, minlength=len(a))\n",
    "print(a)"
   ]
  },
  {
   "cell_type": "markdown",
   "metadata": {},
   "source": [
    "27.Дан массив (w,h,3) (картинка) dtype=ubyte, посчитать количество различных цветов"
   ]
  },
  {
   "cell_type": "code",
   "execution_count": 266,
   "metadata": {},
   "outputs": [
    {
     "data": {
      "text/plain": [
       "8"
      ]
     },
     "execution_count": 266,
     "metadata": {},
     "output_type": "execute_result"
    }
   ],
   "source": [
    "width, height = 16, 16\n",
    "pixel_colors = np.random.randint(0, 2, (height, width, 3)).astype(np.ubyte)\n",
    "pixel_colors_as_vector = pixel_colors.reshape((height*width, 3))\n",
    "uniq_colors = np.unique(pixel_colors_as_vector, axis=0)\n",
    "len(uniq_colors)"
   ]
  },
  {
   "cell_type": "markdown",
   "metadata": {},
   "source": [
    "28.Дан четырехмерный массив, посчитать сумму по последним двум осям"
   ]
  },
  {
   "cell_type": "code",
   "execution_count": 272,
   "metadata": {},
   "outputs": [
    {
     "name": "stdout",
     "output_type": "stream",
     "text": [
      "[[[[1 2 3 2]\n",
      "   [9 8 2 2]\n",
      "   [1 3 5 9]]\n",
      "\n",
      "  [[2 1 8 9]\n",
      "   [4 2 0 0]\n",
      "   [9 8 9 3]]\n",
      "\n",
      "  [[6 3 7 8]\n",
      "   [5 1 2 4]\n",
      "   [8 4 8 0]]\n",
      "\n",
      "  [[4 3 5 9]\n",
      "   [4 1 1 6]\n",
      "   [8 5 6 6]]]\n",
      "\n",
      "\n",
      " [[[1 2 5 8]\n",
      "   [3 4 2 4]\n",
      "   [5 1 5 5]]\n",
      "\n",
      "  [[4 9 2 7]\n",
      "   [5 7 8 5]\n",
      "   [7 5 3 0]]\n",
      "\n",
      "  [[9 8 3 1]\n",
      "   [9 8 8 4]\n",
      "   [4 7 5 5]]\n",
      "\n",
      "  [[9 6 5 2]\n",
      "   [6 4 4 3]\n",
      "   [6 0 1 4]]]\n",
      "\n",
      "\n",
      " [[[0 5 8 9]\n",
      "   [4 4 1 4]\n",
      "   [6 9 7 4]]\n",
      "\n",
      "  [[8 2 4 6]\n",
      "   [5 8 3 6]\n",
      "   [9 9 9 1]]\n",
      "\n",
      "  [[3 5 3 4]\n",
      "   [4 4 0 5]\n",
      "   [0 6 7 8]]\n",
      "\n",
      "  [[7 2 0 8]\n",
      "   [0 3 9 3]\n",
      "   [2 1 4 7]]]]\n"
     ]
    }
   ],
   "source": [
    "A = np.random.randint(0,10, (3,4,3,4))\n",
    "sum = A.reshape(A.shape[:-2] + (-1,)).sum(axis=-1)\n",
    "print(sum)"
   ]
  },
  {
   "cell_type": "markdown",
   "metadata": {},
   "source": [
    "29.Найти диагональные элементы произведения матриц"
   ]
  },
  {
   "cell_type": "code",
   "execution_count": 281,
   "metadata": {},
   "outputs": [
    {
     "data": {
      "text/plain": [
       "array([46, 90, 40])"
      ]
     },
     "execution_count": 281,
     "metadata": {},
     "output_type": "execute_result"
    }
   ],
   "source": [
    "a = np.random.randint(0,10,(3,3))\n",
    "b = np.random.randint(0,10,(3,3))\n",
    "np.diag(np.dot(a, b))"
   ]
  },
  {
   "cell_type": "code",
   "execution_count": null,
   "metadata": {},
   "outputs": [],
   "source": []
  }
 ],
 "metadata": {
  "kernelspec": {
   "display_name": "Python 3",
   "language": "python",
   "name": "python3"
  },
  "language_info": {
   "codemirror_mode": {
    "name": "ipython",
    "version": 3
   },
   "file_extension": ".py",
   "mimetype": "text/x-python",
   "name": "python",
   "nbconvert_exporter": "python",
   "pygments_lexer": "ipython3",
   "version": "3.6.9"
  }
 },
 "nbformat": 4,
 "nbformat_minor": 4
}
